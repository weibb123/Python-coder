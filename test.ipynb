{
 "cells": [
  {
   "cell_type": "code",
   "execution_count": 1,
   "metadata": {},
   "outputs": [],
   "source": [
    "from langchain_ollama import ChatOllama"
   ]
  },
  {
   "cell_type": "code",
   "execution_count": 2,
   "metadata": {},
   "outputs": [],
   "source": [
    "llm = ChatOllama(\n",
    "    model=\"hf.co/weibb/model:Q4_K_M\",\n",
    "    temperature=0\n",
    ")"
   ]
  },
  {
   "cell_type": "code",
   "execution_count": 8,
   "metadata": {},
   "outputs": [
    {
     "name": "stdout",
     "output_type": "stream",
     "text": [
      "Here is an implementation of the three sum problem in Python:\n",
      "\n",
      "```python\n",
      "def three_sum(nums):\n",
      "    nums.sort()\n",
      "    for i in range(len(nums) - 2):\n",
      "        if i > 0 and nums[i] == nums[i-1]:\n",
      "            continue\n",
      "        l, r = i + 1, len(nums) - 1\n",
      "        while l < r:\n",
      "            s = nums[i] + nums[l] + nums[r]\n",
      "            if s < 0: l += 1\n",
      "            elif s > 0: r -= 1\n",
      "            else:\n",
      "                return [nums[i], nums[l], nums[r]]\n",
      "    return []\n",
      "```\n",
      "\n",
      "Explanation:\n",
      "\n",
      "The three sum problem is a classic problem in computer science where we need to find all unique triplets in an array that sum up to zero. The function takes an array of numbers as input and returns a list of tuples, each containing two elements from the array.\n",
      "\n",
      "Here's how it works:\n",
      "\n",
      "1. First, we sort the input array `nums` in ascending order.\n",
      "2. We then iterate over the sorted array using a nested loop structure. This is because we need to find all possible triplets that sum up to zero.\n",
      "3. Inside the outer loop, we check if the current element `nums[i]` is equal to its previous element `nums[i-1]`. If it is, we skip this iteration as we don't want duplicate triplets.\n",
      "4. We then initialize two pointers, `l` and `r`, to the next element after `i` (`nums[i] + nums[l]`) and the last element of the array (`nums[r]`), respectively.\n",
      "5. The while loop continues until `l` is greater than or equal to `r`. At this point, we have found a valid triplet that sums up to zero.\n",
      "6. Inside the while loop, we calculate the sum of the current elements `nums[i]`, `nums[l]`, and `nums[r]`.\n",
      "7. If the sum is less than 0, we increment `l` to increase the sum.\n",
      "8. If the sum is greater than or equal to 0, we decrement `r` to decrease the sum.\n",
      "9. We repeat steps 6-8 until `l >= r`. At this point, we have found all valid triplets that sum up to zero.\n",
      "10. Finally, we return a list of tuples containing each unique triplet.\n",
      "\n",
      "Example usage:\n",
      "\n",
      "```python\n",
      "nums = [1, -2, 3, -4]\n",
      "print(three_sum(nums))  # Output: [[-2, 1, 3], [-4, -2, 1]]\n",
      "```\n",
      "\n",
      "This implementation has a time complexity of O(n^2) and a space complexity of O(1), making it efficient for large inputs.\n"
     ]
    }
   ],
   "source": [
    "from langchain_core.prompts import ChatPromptTemplate\n",
    "\n",
    "prompt = ChatPromptTemplate.from_messages(\n",
    "    [\n",
    "        (\n",
    "            \"system\",\n",
    "            \"You are a senior Python developer. Maintain clear code and good explaination\",\n",
    "        ),\n",
    "        (\"human\", \"{input}\"),\n",
    "    ]\n",
    ")\n",
    "\n",
    "chain = prompt | llm\n",
    "print(chain.invoke(\n",
    "    {\n",
    "        \"input\": \"three sum function\",\n",
    "    }\n",
    ").content)"
   ]
  },
  {
   "cell_type": "code",
   "execution_count": null,
   "metadata": {},
   "outputs": [],
   "source": []
  }
 ],
 "metadata": {
  "kernelspec": {
   "display_name": ".venv",
   "language": "python",
   "name": "python3"
  },
  "language_info": {
   "codemirror_mode": {
    "name": "ipython",
    "version": 3
   },
   "file_extension": ".py",
   "mimetype": "text/x-python",
   "name": "python",
   "nbconvert_exporter": "python",
   "pygments_lexer": "ipython3",
   "version": "3.12.6"
  }
 },
 "nbformat": 4,
 "nbformat_minor": 2
}
